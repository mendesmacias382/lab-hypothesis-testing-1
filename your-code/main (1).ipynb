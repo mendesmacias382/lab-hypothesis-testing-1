{
  "cells": [
    {
      "cell_type": "markdown",
      "metadata": {
        "id": "pt7T7TAQKAma"
      },
      "source": [
        "# Before your start:\n",
        "- Read the README.md file\n",
        "- Comment as much as you can and use the resources (README.md file)\n",
        "- Happy learning!"
      ]
    },
    {
      "cell_type": "code",
      "execution_count": 1,
      "metadata": {
        "id": "ah-15qFIKAmd"
      },
      "outputs": [],
      "source": [
        "# import numpy and pandas\n",
        "import numpy as np\n",
        "import pandas as pd\n"
      ]
    },
    {
      "cell_type": "markdown",
      "metadata": {
        "id": "mkkrjeGhKAme"
      },
      "source": [
        "# Challenge 1 - Exploring the Data\n",
        "\n",
        "In this challenge, we will examine all salaries of employees of the City of Chicago. We will start by loading the dataset and examining its contents."
      ]
    },
    {
      "cell_type": "code",
      "execution_count": 3,
      "metadata": {
        "id": "9meAC9k_KAmf"
      },
      "outputs": [],
      "source": [
        "# Your code here:\n",
        "\n",
        "df = pd.read_csv('Current_Employee_Names__Salaries__and_Position_Titles.csv')\n"
      ]
    },
    {
      "cell_type": "markdown",
      "metadata": {
        "id": "2jlrzF5eKAmf"
      },
      "source": [
        "Examine the `salaries` dataset using the `head` function below."
      ]
    },
    {
      "cell_type": "code",
      "execution_count": null,
      "metadata": {
        "id": "gO-YcOwoKAmg"
      },
      "outputs": [],
      "source": [
        "# Your code here:\n",
        "\n"
      ]
    },
    {
      "cell_type": "markdown",
      "metadata": {
        "id": "yX1vzARMKAmg"
      },
      "source": [
        "We see from looking at the `head` function that there is quite a bit of missing data. Let's examine how much missing data is in each column. Produce this output in the cell below"
      ]
    },
    {
      "cell_type": "code",
      "execution_count": 4,
      "metadata": {
        "colab": {
          "base_uri": "https://localhost:8080/"
        },
        "id": "_VdQMwlpKAmg",
        "outputId": "3b23521e-8a01-4a0a-dfda-6129f84369c0"
      },
      "outputs": [
        {
          "output_type": "execute_result",
          "data": {
            "text/plain": [
              "Name                 False\n",
              "Job Titles           False\n",
              "Department           False\n",
              "Full or Part-Time    False\n",
              "Salary or Hourly     False\n",
              "Typical Hours         True\n",
              "Annual Salary         True\n",
              "Hourly Rate           True\n",
              "dtype: bool"
            ]
          },
          "metadata": {},
          "execution_count": 4
        }
      ],
      "source": [
        "# Your code here:\n",
        "\n",
        "df.isnull().any()"
      ]
    },
    {
      "cell_type": "markdown",
      "metadata": {
        "id": "9J7lhgxlKAmg"
      },
      "source": [
        "Let's also look at the count of hourly vs. salaried employees. Write the code in the cell below"
      ]
    },
    {
      "cell_type": "code",
      "execution_count": 5,
      "metadata": {
        "colab": {
          "base_uri": "https://localhost:8080/"
        },
        "id": "Ki8NeZFuKAmh",
        "outputId": "14702ef3-5ffc-4e59-ed73-d64fc968ffc5"
      },
      "outputs": [
        {
          "output_type": "execute_result",
          "data": {
            "text/plain": [
              "Salary    25161\n",
              "Hourly     8022\n",
              "Name: Salary or Hourly, dtype: int64"
            ]
          },
          "metadata": {},
          "execution_count": 5
        }
      ],
      "source": [
        "# Your code here:\n",
        "\n",
        "df[\"Salary or Hourly\"].value_counts()"
      ]
    },
    {
      "cell_type": "markdown",
      "metadata": {
        "id": "TxhfKvwTKAmh"
      },
      "source": [
        "What this information indicates is that the table contains information about two types of employees - salaried and hourly. Some columns apply only to one type of employee while other columns only apply to another kind. This is why there are so many missing values. Therefore, we will not do anything to handle the missing values."
      ]
    },
    {
      "cell_type": "markdown",
      "metadata": {
        "id": "R-ASy51JKAmh"
      },
      "source": [
        "There are different departments in the city. List all departments and the count of employees in each department."
      ]
    },
    {
      "cell_type": "code",
      "execution_count": 6,
      "metadata": {
        "colab": {
          "base_uri": "https://localhost:8080/"
        },
        "id": "8Wdo1XHfKAmh",
        "outputId": "de4e12fa-0d66-4eb2-9f0f-f53a1e3442c4"
      },
      "outputs": [
        {
          "output_type": "execute_result",
          "data": {
            "text/plain": [
              "POLICE                   13414\n",
              "FIRE                      4641\n",
              "STREETS & SAN             2198\n",
              "OEMC                      2102\n",
              "WATER MGMNT               1879\n",
              "AVIATION                  1629\n",
              "TRANSPORTN                1140\n",
              "PUBLIC LIBRARY            1015\n",
              "GENERAL SERVICES           980\n",
              "FAMILY & SUPPORT           615\n",
              "FINANCE                    560\n",
              "HEALTH                     488\n",
              "CITY COUNCIL               411\n",
              "LAW                        407\n",
              "BUILDINGS                  269\n",
              "COMMUNITY DEVELOPMENT      207\n",
              "BUSINESS AFFAIRS           171\n",
              "COPA                       116\n",
              "BOARD OF ELECTION          107\n",
              "DoIT                        99\n",
              "PROCUREMENT                 92\n",
              "INSPECTOR GEN               87\n",
              "MAYOR'S OFFICE              85\n",
              "CITY CLERK                  84\n",
              "ANIMAL CONTRL               81\n",
              "HUMAN RESOURCES             79\n",
              "CULTURAL AFFAIRS            65\n",
              "BUDGET & MGMT               46\n",
              "ADMIN HEARNG                39\n",
              "DISABILITIES                28\n",
              "TREASURER                   22\n",
              "HUMAN RELATIONS             16\n",
              "BOARD OF ETHICS              8\n",
              "POLICE BOARD                 2\n",
              "LICENSE APPL COMM            1\n",
              "Name: Department, dtype: int64"
            ]
          },
          "metadata": {},
          "execution_count": 6
        }
      ],
      "source": [
        "# Your code here:\n",
        "df[\"Department\"].value_counts()\n"
      ]
    },
    {
      "cell_type": "markdown",
      "metadata": {
        "id": "J_-llXKUKAmi"
      },
      "source": [
        "# Challenge 2 - Hypothesis Tests\n",
        "\n",
        "In this section of the lab, we will test whether the hourly wage of all hourly workers is significantly different from $30/hr. Import the correct one sample test function from scipy and perform the hypothesis test for a 95% two sided confidence interval."
      ]
    },
    {
      "cell_type": "code",
      "execution_count": 7,
      "metadata": {
        "id": "XKJIIfHTKAmi"
      },
      "outputs": [],
      "source": [
        "# Your code here:\n",
        "\n",
        "import scipy.stats as st\n",
        "import numpy as np"
      ]
    },
    {
      "cell_type": "code",
      "source": [
        "#   H0: mu hour rate =30/h\n",
        "#   H1: mu hour rate != 30/h"
      ],
      "metadata": {
        "id": "liBgDtxnLa4v"
      },
      "execution_count": null,
      "outputs": []
    },
    {
      "cell_type": "code",
      "source": [
        "#Choose significance / confidence level\n",
        "# significance level -> 5%\n",
        "\n",
        "alpha = 0.05"
      ],
      "metadata": {
        "id": "5-dwfEreLfTb"
      },
      "execution_count": null,
      "outputs": []
    },
    {
      "cell_type": "code",
      "source": [
        "c_sample = df['Hourly Rate'].sample(1000)\n",
        "c_sample.head()\n"
      ],
      "metadata": {
        "colab": {
          "base_uri": "https://localhost:8080/"
        },
        "id": "K8JFiU1JLm_N",
        "outputId": "30394898-453c-4972-cdd3-1be3c492119a"
      },
      "execution_count": 8,
      "outputs": [
        {
          "output_type": "execute_result",
          "data": {
            "text/plain": [
              "23749    26.11\n",
              "15916      NaN\n",
              "23106      NaN\n",
              "9222       NaN\n",
              "17300      NaN\n",
              "Name: Hourly Rate, dtype: float64"
            ]
          },
          "metadata": {},
          "execution_count": 8
        }
      ]
    },
    {
      "cell_type": "code",
      "source": [
        "mean = c_sample.mean()\n",
        "std = c_sample.std(ddof=1)\n",
        "#display(mean)\n",
        "#display(std)\n",
        "\n",
        "stat = (mean - 30)/ (std/ np.sqrt(1000))\n",
        "stat"
      ],
      "metadata": {
        "colab": {
          "base_uri": "https://localhost:8080/"
        },
        "id": "emSs_dvvLpxv",
        "outputId": "164b2aa7-b7dc-428e-8eb7-fd360fb63b01"
      },
      "execution_count": 9,
      "outputs": [
        {
          "output_type": "execute_result",
          "data": {
            "text/plain": [
              "8.208910289828948"
            ]
          },
          "metadata": {},
          "execution_count": 9
        }
      ]
    },
    {
      "cell_type": "code",
      "source": [
        "p_value = st.t.sf(abs(stat), 1000 -1) *2\n",
        "p_value  #if the mean is 17, it can happen 32% of the times."
      ],
      "metadata": {
        "colab": {
          "base_uri": "https://localhost:8080/"
        },
        "id": "D2UzKl4aLs21",
        "outputId": "01486660-08be-450a-b602-8da7e77b75df"
      },
      "execution_count": 10,
      "outputs": [
        {
          "output_type": "execute_result",
          "data": {
            "text/plain": [
              "6.84178050543527e-16"
            ]
          },
          "metadata": {},
          "execution_count": 10
        }
      ]
    },
    {
      "cell_type": "code",
      "source": [
        "p_value < 0.05 #REJECT"
      ],
      "metadata": {
        "colab": {
          "base_uri": "https://localhost:8080/"
        },
        "id": "FV_ZB5RmLySj",
        "outputId": "971bf4d3-a6bb-4b1d-e278-bdc21f94f1c9"
      },
      "execution_count": 11,
      "outputs": [
        {
          "output_type": "execute_result",
          "data": {
            "text/plain": [
              "True"
            ]
          },
          "metadata": {},
          "execution_count": 11
        }
      ]
    },
    {
      "cell_type": "markdown",
      "metadata": {
        "id": "I5xKyvX4KAmi"
      },
      "source": [
        "We are also curious about salaries in the police force. The chief of police in Chicago claimed in a press briefing that salaries this year are higher than last year's mean of $86000/year a year for all salaried employees. Test this one sided hypothesis using a 95% confidence interval.\n",
        "\n",
        "Hint: A one tailed test has a p-value that is half of the two tailed p-value. If our hypothesis is greater than, then to reject, the test statistic must also be positive."
      ]
    },
    {
      "cell_type": "code",
      "execution_count": 14,
      "metadata": {
        "colab": {
          "base_uri": "https://localhost:8080/",
          "height": 1000
        },
        "id": "Z-UfgjkfKAmi",
        "outputId": "91e48bc8-b9b0-414b-a3fa-daefabb004c7"
      },
      "outputs": [
        {
          "output_type": "execute_result",
          "data": {
            "text/plain": [
              "                        Name                              Job Titles  \\\n",
              "4974        CINTRON,  DAVID                           POLICE OFFICER   \n",
              "26692      SCHNOOR,  KELLY A                                SERGEANT   \n",
              "2198      BILINA,  MICHAEL J                          POLICE OFFICER   \n",
              "17812        MALONEY,  CODY                           POLICE OFFICER   \n",
              "7499     DONNELLY,  MICHAEL                           POLICE OFFICER   \n",
              "8404       ESTRADA,  NESTOR                           POLICE OFFICER   \n",
              "1175      AUSTIN,  RICHARD A                          POLICE OFFICER   \n",
              "10173       GAYTAN,  PEGGY E                          POLICE OFFICER   \n",
              "24461     RENAULT,  PHILLIP                           POLICE OFFICER   \n",
              "5412     COLLINS,  MICHAEL J                          POLICE OFFICER   \n",
              "27662       SMITH,  CRYSTAL               SENIOR DATA ENTRY OPERATOR   \n",
              "5940     CRADICK,  PATRICK M  POLICE OFFICER (ASSIGNED AS DETECTIVE)   \n",
              "610        ALVAREZ,  JAVIER                           POLICE OFFICER   \n",
              "1326          BAIG,  MIRZA M             POLICE ADMINISTRATIVE CLERK   \n",
              "28197   SPIZZIRRI,  EDWARD A                          POLICE OFFICER   \n",
              "23848      PURTELL,  BRIAN P                          POLICE OFFICER   \n",
              "24078       RAMIREZ,  JULIE                           POLICE OFFICER   \n",
              "29394        THOMAS,  DAWN D                          POLICE OFFICER   \n",
              "9914           GARCIA,  LIA                           POLICE OFFICER   \n",
              "31994      WILLIAMS,  GARY L                                SERGEANT   \n",
              "19025  MC KENZIE,  PATRICK J                              LIEUTENANT   \n",
              "16273      LAPADULA,  MARC A  POLICE OFFICER (ASSIGNED AS DETECTIVE)   \n",
              "9589         GADDY,  REGINA                           POLICE OFFICER   \n",
              "10704     GONZALEZ,  EVELYN              POLICE ADMINISTRATIVE CLERK   \n",
              "698         ANAYA,  ERNESTO                           POLICE OFFICER   \n",
              "8860     FINK,  CHRISTOPHER                           POLICE OFFICER   \n",
              "19909        MOE,  CARLITO P               LABORATORY TECHNICIAN III   \n",
              "17883    MANNION,  MICHAEL T                          POLICE OFFICER   \n",
              "28398    STELLA,  NICHOLAS D                          POLICE OFFICER   \n",
              "8065    EDWARDS JR,  ELMORE                           POLICE OFFICER   \n",
              "\n",
              "      Department Full or Part-Time Salary or Hourly  Typical Hours  \\\n",
              "4974      POLICE                 F           Salary            NaN   \n",
              "26692     POLICE                 F           Salary            NaN   \n",
              "2198      POLICE                 F           Salary            NaN   \n",
              "17812     POLICE                 F           Salary            NaN   \n",
              "7499      POLICE                 F           Salary            NaN   \n",
              "8404      POLICE                 F           Salary            NaN   \n",
              "1175      POLICE                 F           Salary            NaN   \n",
              "10173     POLICE                 F           Salary            NaN   \n",
              "24461     POLICE                 F           Salary            NaN   \n",
              "5412      POLICE                 F           Salary            NaN   \n",
              "27662     POLICE                 F           Salary            NaN   \n",
              "5940      POLICE                 F           Salary            NaN   \n",
              "610       POLICE                 F           Salary            NaN   \n",
              "1326      POLICE                 F           Salary            NaN   \n",
              "28197     POLICE                 F           Salary            NaN   \n",
              "23848     POLICE                 F           Salary            NaN   \n",
              "24078     POLICE                 F           Salary            NaN   \n",
              "29394     POLICE                 F           Salary            NaN   \n",
              "9914      POLICE                 F           Salary            NaN   \n",
              "31994     POLICE                 F           Salary            NaN   \n",
              "19025     POLICE                 F           Salary            NaN   \n",
              "16273     POLICE                 F           Salary            NaN   \n",
              "9589      POLICE                 F           Salary            NaN   \n",
              "10704     POLICE                 F           Salary            NaN   \n",
              "698       POLICE                 F           Salary            NaN   \n",
              "8860      POLICE                 F           Salary            NaN   \n",
              "19909     POLICE                 F           Salary            NaN   \n",
              "17883     POLICE                 F           Salary            NaN   \n",
              "28398     POLICE                 F           Salary            NaN   \n",
              "8065      POLICE                 F           Salary            NaN   \n",
              "\n",
              "       Annual Salary  Hourly Rate  \n",
              "4974         87006.0          NaN  \n",
              "26692       101442.0          NaN  \n",
              "2198         84054.0          NaN  \n",
              "17812        76266.0          NaN  \n",
              "7499         48078.0          NaN  \n",
              "8404         80016.0          NaN  \n",
              "1175         93354.0          NaN  \n",
              "10173        96060.0          NaN  \n",
              "24461        84054.0          NaN  \n",
              "5412         84054.0          NaN  \n",
              "27662        63876.0          NaN  \n",
              "5940         91080.0          NaN  \n",
              "610          80016.0          NaN  \n",
              "1326         40392.0          NaN  \n",
              "28197        96060.0          NaN  \n",
              "23848        87006.0          NaN  \n",
              "24078        48078.0          NaN  \n",
              "29394        90024.0          NaN  \n",
              "9914         72510.0          NaN  \n",
              "31994       107988.0          NaN  \n",
              "19025       123894.0          NaN  \n",
              "16273        94122.0          NaN  \n",
              "9589         48078.0          NaN  \n",
              "10704        40392.0          NaN  \n",
              "698          68616.0          NaN  \n",
              "8860         68616.0          NaN  \n",
              "19909        73440.0          NaN  \n",
              "17883        76266.0          NaN  \n",
              "28398        90024.0          NaN  \n",
              "8065         96060.0          NaN  "
            ],
            "text/html": [
              "\n",
              "  <div id=\"df-cf87d292-8ddf-4d57-a490-df1949e67d3c\" class=\"colab-df-container\">\n",
              "    <div>\n",
              "<style scoped>\n",
              "    .dataframe tbody tr th:only-of-type {\n",
              "        vertical-align: middle;\n",
              "    }\n",
              "\n",
              "    .dataframe tbody tr th {\n",
              "        vertical-align: top;\n",
              "    }\n",
              "\n",
              "    .dataframe thead th {\n",
              "        text-align: right;\n",
              "    }\n",
              "</style>\n",
              "<table border=\"1\" class=\"dataframe\">\n",
              "  <thead>\n",
              "    <tr style=\"text-align: right;\">\n",
              "      <th></th>\n",
              "      <th>Name</th>\n",
              "      <th>Job Titles</th>\n",
              "      <th>Department</th>\n",
              "      <th>Full or Part-Time</th>\n",
              "      <th>Salary or Hourly</th>\n",
              "      <th>Typical Hours</th>\n",
              "      <th>Annual Salary</th>\n",
              "      <th>Hourly Rate</th>\n",
              "    </tr>\n",
              "  </thead>\n",
              "  <tbody>\n",
              "    <tr>\n",
              "      <th>4974</th>\n",
              "      <td>CINTRON,  DAVID</td>\n",
              "      <td>POLICE OFFICER</td>\n",
              "      <td>POLICE</td>\n",
              "      <td>F</td>\n",
              "      <td>Salary</td>\n",
              "      <td>NaN</td>\n",
              "      <td>87006.0</td>\n",
              "      <td>NaN</td>\n",
              "    </tr>\n",
              "    <tr>\n",
              "      <th>26692</th>\n",
              "      <td>SCHNOOR,  KELLY A</td>\n",
              "      <td>SERGEANT</td>\n",
              "      <td>POLICE</td>\n",
              "      <td>F</td>\n",
              "      <td>Salary</td>\n",
              "      <td>NaN</td>\n",
              "      <td>101442.0</td>\n",
              "      <td>NaN</td>\n",
              "    </tr>\n",
              "    <tr>\n",
              "      <th>2198</th>\n",
              "      <td>BILINA,  MICHAEL J</td>\n",
              "      <td>POLICE OFFICER</td>\n",
              "      <td>POLICE</td>\n",
              "      <td>F</td>\n",
              "      <td>Salary</td>\n",
              "      <td>NaN</td>\n",
              "      <td>84054.0</td>\n",
              "      <td>NaN</td>\n",
              "    </tr>\n",
              "    <tr>\n",
              "      <th>17812</th>\n",
              "      <td>MALONEY,  CODY</td>\n",
              "      <td>POLICE OFFICER</td>\n",
              "      <td>POLICE</td>\n",
              "      <td>F</td>\n",
              "      <td>Salary</td>\n",
              "      <td>NaN</td>\n",
              "      <td>76266.0</td>\n",
              "      <td>NaN</td>\n",
              "    </tr>\n",
              "    <tr>\n",
              "      <th>7499</th>\n",
              "      <td>DONNELLY,  MICHAEL</td>\n",
              "      <td>POLICE OFFICER</td>\n",
              "      <td>POLICE</td>\n",
              "      <td>F</td>\n",
              "      <td>Salary</td>\n",
              "      <td>NaN</td>\n",
              "      <td>48078.0</td>\n",
              "      <td>NaN</td>\n",
              "    </tr>\n",
              "    <tr>\n",
              "      <th>8404</th>\n",
              "      <td>ESTRADA,  NESTOR</td>\n",
              "      <td>POLICE OFFICER</td>\n",
              "      <td>POLICE</td>\n",
              "      <td>F</td>\n",
              "      <td>Salary</td>\n",
              "      <td>NaN</td>\n",
              "      <td>80016.0</td>\n",
              "      <td>NaN</td>\n",
              "    </tr>\n",
              "    <tr>\n",
              "      <th>1175</th>\n",
              "      <td>AUSTIN,  RICHARD A</td>\n",
              "      <td>POLICE OFFICER</td>\n",
              "      <td>POLICE</td>\n",
              "      <td>F</td>\n",
              "      <td>Salary</td>\n",
              "      <td>NaN</td>\n",
              "      <td>93354.0</td>\n",
              "      <td>NaN</td>\n",
              "    </tr>\n",
              "    <tr>\n",
              "      <th>10173</th>\n",
              "      <td>GAYTAN,  PEGGY E</td>\n",
              "      <td>POLICE OFFICER</td>\n",
              "      <td>POLICE</td>\n",
              "      <td>F</td>\n",
              "      <td>Salary</td>\n",
              "      <td>NaN</td>\n",
              "      <td>96060.0</td>\n",
              "      <td>NaN</td>\n",
              "    </tr>\n",
              "    <tr>\n",
              "      <th>24461</th>\n",
              "      <td>RENAULT,  PHILLIP</td>\n",
              "      <td>POLICE OFFICER</td>\n",
              "      <td>POLICE</td>\n",
              "      <td>F</td>\n",
              "      <td>Salary</td>\n",
              "      <td>NaN</td>\n",
              "      <td>84054.0</td>\n",
              "      <td>NaN</td>\n",
              "    </tr>\n",
              "    <tr>\n",
              "      <th>5412</th>\n",
              "      <td>COLLINS,  MICHAEL J</td>\n",
              "      <td>POLICE OFFICER</td>\n",
              "      <td>POLICE</td>\n",
              "      <td>F</td>\n",
              "      <td>Salary</td>\n",
              "      <td>NaN</td>\n",
              "      <td>84054.0</td>\n",
              "      <td>NaN</td>\n",
              "    </tr>\n",
              "    <tr>\n",
              "      <th>27662</th>\n",
              "      <td>SMITH,  CRYSTAL</td>\n",
              "      <td>SENIOR DATA ENTRY OPERATOR</td>\n",
              "      <td>POLICE</td>\n",
              "      <td>F</td>\n",
              "      <td>Salary</td>\n",
              "      <td>NaN</td>\n",
              "      <td>63876.0</td>\n",
              "      <td>NaN</td>\n",
              "    </tr>\n",
              "    <tr>\n",
              "      <th>5940</th>\n",
              "      <td>CRADICK,  PATRICK M</td>\n",
              "      <td>POLICE OFFICER (ASSIGNED AS DETECTIVE)</td>\n",
              "      <td>POLICE</td>\n",
              "      <td>F</td>\n",
              "      <td>Salary</td>\n",
              "      <td>NaN</td>\n",
              "      <td>91080.0</td>\n",
              "      <td>NaN</td>\n",
              "    </tr>\n",
              "    <tr>\n",
              "      <th>610</th>\n",
              "      <td>ALVAREZ,  JAVIER</td>\n",
              "      <td>POLICE OFFICER</td>\n",
              "      <td>POLICE</td>\n",
              "      <td>F</td>\n",
              "      <td>Salary</td>\n",
              "      <td>NaN</td>\n",
              "      <td>80016.0</td>\n",
              "      <td>NaN</td>\n",
              "    </tr>\n",
              "    <tr>\n",
              "      <th>1326</th>\n",
              "      <td>BAIG,  MIRZA M</td>\n",
              "      <td>POLICE ADMINISTRATIVE CLERK</td>\n",
              "      <td>POLICE</td>\n",
              "      <td>F</td>\n",
              "      <td>Salary</td>\n",
              "      <td>NaN</td>\n",
              "      <td>40392.0</td>\n",
              "      <td>NaN</td>\n",
              "    </tr>\n",
              "    <tr>\n",
              "      <th>28197</th>\n",
              "      <td>SPIZZIRRI,  EDWARD A</td>\n",
              "      <td>POLICE OFFICER</td>\n",
              "      <td>POLICE</td>\n",
              "      <td>F</td>\n",
              "      <td>Salary</td>\n",
              "      <td>NaN</td>\n",
              "      <td>96060.0</td>\n",
              "      <td>NaN</td>\n",
              "    </tr>\n",
              "    <tr>\n",
              "      <th>23848</th>\n",
              "      <td>PURTELL,  BRIAN P</td>\n",
              "      <td>POLICE OFFICER</td>\n",
              "      <td>POLICE</td>\n",
              "      <td>F</td>\n",
              "      <td>Salary</td>\n",
              "      <td>NaN</td>\n",
              "      <td>87006.0</td>\n",
              "      <td>NaN</td>\n",
              "    </tr>\n",
              "    <tr>\n",
              "      <th>24078</th>\n",
              "      <td>RAMIREZ,  JULIE</td>\n",
              "      <td>POLICE OFFICER</td>\n",
              "      <td>POLICE</td>\n",
              "      <td>F</td>\n",
              "      <td>Salary</td>\n",
              "      <td>NaN</td>\n",
              "      <td>48078.0</td>\n",
              "      <td>NaN</td>\n",
              "    </tr>\n",
              "    <tr>\n",
              "      <th>29394</th>\n",
              "      <td>THOMAS,  DAWN D</td>\n",
              "      <td>POLICE OFFICER</td>\n",
              "      <td>POLICE</td>\n",
              "      <td>F</td>\n",
              "      <td>Salary</td>\n",
              "      <td>NaN</td>\n",
              "      <td>90024.0</td>\n",
              "      <td>NaN</td>\n",
              "    </tr>\n",
              "    <tr>\n",
              "      <th>9914</th>\n",
              "      <td>GARCIA,  LIA</td>\n",
              "      <td>POLICE OFFICER</td>\n",
              "      <td>POLICE</td>\n",
              "      <td>F</td>\n",
              "      <td>Salary</td>\n",
              "      <td>NaN</td>\n",
              "      <td>72510.0</td>\n",
              "      <td>NaN</td>\n",
              "    </tr>\n",
              "    <tr>\n",
              "      <th>31994</th>\n",
              "      <td>WILLIAMS,  GARY L</td>\n",
              "      <td>SERGEANT</td>\n",
              "      <td>POLICE</td>\n",
              "      <td>F</td>\n",
              "      <td>Salary</td>\n",
              "      <td>NaN</td>\n",
              "      <td>107988.0</td>\n",
              "      <td>NaN</td>\n",
              "    </tr>\n",
              "    <tr>\n",
              "      <th>19025</th>\n",
              "      <td>MC KENZIE,  PATRICK J</td>\n",
              "      <td>LIEUTENANT</td>\n",
              "      <td>POLICE</td>\n",
              "      <td>F</td>\n",
              "      <td>Salary</td>\n",
              "      <td>NaN</td>\n",
              "      <td>123894.0</td>\n",
              "      <td>NaN</td>\n",
              "    </tr>\n",
              "    <tr>\n",
              "      <th>16273</th>\n",
              "      <td>LAPADULA,  MARC A</td>\n",
              "      <td>POLICE OFFICER (ASSIGNED AS DETECTIVE)</td>\n",
              "      <td>POLICE</td>\n",
              "      <td>F</td>\n",
              "      <td>Salary</td>\n",
              "      <td>NaN</td>\n",
              "      <td>94122.0</td>\n",
              "      <td>NaN</td>\n",
              "    </tr>\n",
              "    <tr>\n",
              "      <th>9589</th>\n",
              "      <td>GADDY,  REGINA</td>\n",
              "      <td>POLICE OFFICER</td>\n",
              "      <td>POLICE</td>\n",
              "      <td>F</td>\n",
              "      <td>Salary</td>\n",
              "      <td>NaN</td>\n",
              "      <td>48078.0</td>\n",
              "      <td>NaN</td>\n",
              "    </tr>\n",
              "    <tr>\n",
              "      <th>10704</th>\n",
              "      <td>GONZALEZ,  EVELYN</td>\n",
              "      <td>POLICE ADMINISTRATIVE CLERK</td>\n",
              "      <td>POLICE</td>\n",
              "      <td>F</td>\n",
              "      <td>Salary</td>\n",
              "      <td>NaN</td>\n",
              "      <td>40392.0</td>\n",
              "      <td>NaN</td>\n",
              "    </tr>\n",
              "    <tr>\n",
              "      <th>698</th>\n",
              "      <td>ANAYA,  ERNESTO</td>\n",
              "      <td>POLICE OFFICER</td>\n",
              "      <td>POLICE</td>\n",
              "      <td>F</td>\n",
              "      <td>Salary</td>\n",
              "      <td>NaN</td>\n",
              "      <td>68616.0</td>\n",
              "      <td>NaN</td>\n",
              "    </tr>\n",
              "    <tr>\n",
              "      <th>8860</th>\n",
              "      <td>FINK,  CHRISTOPHER</td>\n",
              "      <td>POLICE OFFICER</td>\n",
              "      <td>POLICE</td>\n",
              "      <td>F</td>\n",
              "      <td>Salary</td>\n",
              "      <td>NaN</td>\n",
              "      <td>68616.0</td>\n",
              "      <td>NaN</td>\n",
              "    </tr>\n",
              "    <tr>\n",
              "      <th>19909</th>\n",
              "      <td>MOE,  CARLITO P</td>\n",
              "      <td>LABORATORY TECHNICIAN III</td>\n",
              "      <td>POLICE</td>\n",
              "      <td>F</td>\n",
              "      <td>Salary</td>\n",
              "      <td>NaN</td>\n",
              "      <td>73440.0</td>\n",
              "      <td>NaN</td>\n",
              "    </tr>\n",
              "    <tr>\n",
              "      <th>17883</th>\n",
              "      <td>MANNION,  MICHAEL T</td>\n",
              "      <td>POLICE OFFICER</td>\n",
              "      <td>POLICE</td>\n",
              "      <td>F</td>\n",
              "      <td>Salary</td>\n",
              "      <td>NaN</td>\n",
              "      <td>76266.0</td>\n",
              "      <td>NaN</td>\n",
              "    </tr>\n",
              "    <tr>\n",
              "      <th>28398</th>\n",
              "      <td>STELLA,  NICHOLAS D</td>\n",
              "      <td>POLICE OFFICER</td>\n",
              "      <td>POLICE</td>\n",
              "      <td>F</td>\n",
              "      <td>Salary</td>\n",
              "      <td>NaN</td>\n",
              "      <td>90024.0</td>\n",
              "      <td>NaN</td>\n",
              "    </tr>\n",
              "    <tr>\n",
              "      <th>8065</th>\n",
              "      <td>EDWARDS JR,  ELMORE</td>\n",
              "      <td>POLICE OFFICER</td>\n",
              "      <td>POLICE</td>\n",
              "      <td>F</td>\n",
              "      <td>Salary</td>\n",
              "      <td>NaN</td>\n",
              "      <td>96060.0</td>\n",
              "      <td>NaN</td>\n",
              "    </tr>\n",
              "  </tbody>\n",
              "</table>\n",
              "</div>\n",
              "    <div class=\"colab-df-buttons\">\n",
              "\n",
              "  <div class=\"colab-df-container\">\n",
              "    <button class=\"colab-df-convert\" onclick=\"convertToInteractive('df-cf87d292-8ddf-4d57-a490-df1949e67d3c')\"\n",
              "            title=\"Convert this dataframe to an interactive table.\"\n",
              "            style=\"display:none;\">\n",
              "\n",
              "  <svg xmlns=\"http://www.w3.org/2000/svg\" height=\"24px\" viewBox=\"0 -960 960 960\">\n",
              "    <path d=\"M120-120v-720h720v720H120Zm60-500h600v-160H180v160Zm220 220h160v-160H400v160Zm0 220h160v-160H400v160ZM180-400h160v-160H180v160Zm440 0h160v-160H620v160ZM180-180h160v-160H180v160Zm440 0h160v-160H620v160Z\"/>\n",
              "  </svg>\n",
              "    </button>\n",
              "\n",
              "  <style>\n",
              "    .colab-df-container {\n",
              "      display:flex;\n",
              "      gap: 12px;\n",
              "    }\n",
              "\n",
              "    .colab-df-convert {\n",
              "      background-color: #E8F0FE;\n",
              "      border: none;\n",
              "      border-radius: 50%;\n",
              "      cursor: pointer;\n",
              "      display: none;\n",
              "      fill: #1967D2;\n",
              "      height: 32px;\n",
              "      padding: 0 0 0 0;\n",
              "      width: 32px;\n",
              "    }\n",
              "\n",
              "    .colab-df-convert:hover {\n",
              "      background-color: #E2EBFA;\n",
              "      box-shadow: 0px 1px 2px rgba(60, 64, 67, 0.3), 0px 1px 3px 1px rgba(60, 64, 67, 0.15);\n",
              "      fill: #174EA6;\n",
              "    }\n",
              "\n",
              "    .colab-df-buttons div {\n",
              "      margin-bottom: 4px;\n",
              "    }\n",
              "\n",
              "    [theme=dark] .colab-df-convert {\n",
              "      background-color: #3B4455;\n",
              "      fill: #D2E3FC;\n",
              "    }\n",
              "\n",
              "    [theme=dark] .colab-df-convert:hover {\n",
              "      background-color: #434B5C;\n",
              "      box-shadow: 0px 1px 3px 1px rgba(0, 0, 0, 0.15);\n",
              "      filter: drop-shadow(0px 1px 2px rgba(0, 0, 0, 0.3));\n",
              "      fill: #FFFFFF;\n",
              "    }\n",
              "  </style>\n",
              "\n",
              "    <script>\n",
              "      const buttonEl =\n",
              "        document.querySelector('#df-cf87d292-8ddf-4d57-a490-df1949e67d3c button.colab-df-convert');\n",
              "      buttonEl.style.display =\n",
              "        google.colab.kernel.accessAllowed ? 'block' : 'none';\n",
              "\n",
              "      async function convertToInteractive(key) {\n",
              "        const element = document.querySelector('#df-cf87d292-8ddf-4d57-a490-df1949e67d3c');\n",
              "        const dataTable =\n",
              "          await google.colab.kernel.invokeFunction('convertToInteractive',\n",
              "                                                    [key], {});\n",
              "        if (!dataTable) return;\n",
              "\n",
              "        const docLinkHtml = 'Like what you see? Visit the ' +\n",
              "          '<a target=\"_blank\" href=https://colab.research.google.com/notebooks/data_table.ipynb>data table notebook</a>'\n",
              "          + ' to learn more about interactive tables.';\n",
              "        element.innerHTML = '';\n",
              "        dataTable['output_type'] = 'display_data';\n",
              "        await google.colab.output.renderOutput(dataTable, element);\n",
              "        const docLink = document.createElement('div');\n",
              "        docLink.innerHTML = docLinkHtml;\n",
              "        element.appendChild(docLink);\n",
              "      }\n",
              "    </script>\n",
              "  </div>\n",
              "\n",
              "\n",
              "<div id=\"df-949239ea-cd1b-4e5f-8440-180c885b2fd7\">\n",
              "  <button class=\"colab-df-quickchart\" onclick=\"quickchart('df-949239ea-cd1b-4e5f-8440-180c885b2fd7')\"\n",
              "            title=\"Suggest charts\"\n",
              "            style=\"display:none;\">\n",
              "\n",
              "<svg xmlns=\"http://www.w3.org/2000/svg\" height=\"24px\"viewBox=\"0 0 24 24\"\n",
              "     width=\"24px\">\n",
              "    <g>\n",
              "        <path d=\"M19 3H5c-1.1 0-2 .9-2 2v14c0 1.1.9 2 2 2h14c1.1 0 2-.9 2-2V5c0-1.1-.9-2-2-2zM9 17H7v-7h2v7zm4 0h-2V7h2v10zm4 0h-2v-4h2v4z\"/>\n",
              "    </g>\n",
              "</svg>\n",
              "  </button>\n",
              "\n",
              "<style>\n",
              "  .colab-df-quickchart {\n",
              "      --bg-color: #E8F0FE;\n",
              "      --fill-color: #1967D2;\n",
              "      --hover-bg-color: #E2EBFA;\n",
              "      --hover-fill-color: #174EA6;\n",
              "      --disabled-fill-color: #AAA;\n",
              "      --disabled-bg-color: #DDD;\n",
              "  }\n",
              "\n",
              "  [theme=dark] .colab-df-quickchart {\n",
              "      --bg-color: #3B4455;\n",
              "      --fill-color: #D2E3FC;\n",
              "      --hover-bg-color: #434B5C;\n",
              "      --hover-fill-color: #FFFFFF;\n",
              "      --disabled-bg-color: #3B4455;\n",
              "      --disabled-fill-color: #666;\n",
              "  }\n",
              "\n",
              "  .colab-df-quickchart {\n",
              "    background-color: var(--bg-color);\n",
              "    border: none;\n",
              "    border-radius: 50%;\n",
              "    cursor: pointer;\n",
              "    display: none;\n",
              "    fill: var(--fill-color);\n",
              "    height: 32px;\n",
              "    padding: 0;\n",
              "    width: 32px;\n",
              "  }\n",
              "\n",
              "  .colab-df-quickchart:hover {\n",
              "    background-color: var(--hover-bg-color);\n",
              "    box-shadow: 0 1px 2px rgba(60, 64, 67, 0.3), 0 1px 3px 1px rgba(60, 64, 67, 0.15);\n",
              "    fill: var(--button-hover-fill-color);\n",
              "  }\n",
              "\n",
              "  .colab-df-quickchart-complete:disabled,\n",
              "  .colab-df-quickchart-complete:disabled:hover {\n",
              "    background-color: var(--disabled-bg-color);\n",
              "    fill: var(--disabled-fill-color);\n",
              "    box-shadow: none;\n",
              "  }\n",
              "\n",
              "  .colab-df-spinner {\n",
              "    border: 2px solid var(--fill-color);\n",
              "    border-color: transparent;\n",
              "    border-bottom-color: var(--fill-color);\n",
              "    animation:\n",
              "      spin 1s steps(1) infinite;\n",
              "  }\n",
              "\n",
              "  @keyframes spin {\n",
              "    0% {\n",
              "      border-color: transparent;\n",
              "      border-bottom-color: var(--fill-color);\n",
              "      border-left-color: var(--fill-color);\n",
              "    }\n",
              "    20% {\n",
              "      border-color: transparent;\n",
              "      border-left-color: var(--fill-color);\n",
              "      border-top-color: var(--fill-color);\n",
              "    }\n",
              "    30% {\n",
              "      border-color: transparent;\n",
              "      border-left-color: var(--fill-color);\n",
              "      border-top-color: var(--fill-color);\n",
              "      border-right-color: var(--fill-color);\n",
              "    }\n",
              "    40% {\n",
              "      border-color: transparent;\n",
              "      border-right-color: var(--fill-color);\n",
              "      border-top-color: var(--fill-color);\n",
              "    }\n",
              "    60% {\n",
              "      border-color: transparent;\n",
              "      border-right-color: var(--fill-color);\n",
              "    }\n",
              "    80% {\n",
              "      border-color: transparent;\n",
              "      border-right-color: var(--fill-color);\n",
              "      border-bottom-color: var(--fill-color);\n",
              "    }\n",
              "    90% {\n",
              "      border-color: transparent;\n",
              "      border-bottom-color: var(--fill-color);\n",
              "    }\n",
              "  }\n",
              "</style>\n",
              "\n",
              "  <script>\n",
              "    async function quickchart(key) {\n",
              "      const quickchartButtonEl =\n",
              "        document.querySelector('#' + key + ' button');\n",
              "      quickchartButtonEl.disabled = true;  // To prevent multiple clicks.\n",
              "      quickchartButtonEl.classList.add('colab-df-spinner');\n",
              "      try {\n",
              "        const charts = await google.colab.kernel.invokeFunction(\n",
              "            'suggestCharts', [key], {});\n",
              "      } catch (error) {\n",
              "        console.error('Error during call to suggestCharts:', error);\n",
              "      }\n",
              "      quickchartButtonEl.classList.remove('colab-df-spinner');\n",
              "      quickchartButtonEl.classList.add('colab-df-quickchart-complete');\n",
              "    }\n",
              "    (() => {\n",
              "      let quickchartButtonEl =\n",
              "        document.querySelector('#df-949239ea-cd1b-4e5f-8440-180c885b2fd7 button');\n",
              "      quickchartButtonEl.style.display =\n",
              "        google.colab.kernel.accessAllowed ? 'block' : 'none';\n",
              "    })();\n",
              "  </script>\n",
              "</div>\n",
              "    </div>\n",
              "  </div>\n"
            ]
          },
          "metadata": {},
          "execution_count": 14
        }
      ],
      "source": [
        "# Your code here:\n",
        "\n",
        "\n",
        "c2_sample = df[df['Department'] ==\"POLICE\"].sample(30)\n",
        "c2_sample"
      ]
    },
    {
      "cell_type": "markdown",
      "metadata": {
        "id": "EivNQXA8KAmj"
      },
      "source": [
        "Using the `crosstab` function, find the department that has the most hourly workers."
      ]
    },
    {
      "cell_type": "code",
      "execution_count": 13,
      "metadata": {
        "colab": {
          "base_uri": "https://localhost:8080/"
        },
        "id": "Q5Yb3W5zKAmj",
        "outputId": "4b51b533-dab5-4d8d-f978-35c0e5e0fbcc"
      },
      "outputs": [
        {
          "output_type": "execute_result",
          "data": {
            "text/plain": [
              "8479      93354.0\n",
              "29024     94122.0\n",
              "29160     87006.0\n",
              "30355     96060.0\n",
              "3510     107988.0\n",
              "Name: Annual Salary, dtype: float64"
            ]
          },
          "metadata": {},
          "execution_count": 13
        }
      ],
      "source": [
        "# Your code here:\n",
        "\n",
        "\n",
        "\n",
        "c2_sample_f = c2_sample['Annual Salary']\n",
        "c2_sample_f.head()"
      ]
    },
    {
      "cell_type": "code",
      "source": [
        "mean = c2_sample_f.mean()\n",
        "std = c2_sample_f.std(ddof=1)\n",
        "mu = 86000 # the mean given to us\n",
        "\n",
        "stat = (mean - 86000)/ (std/ np.sqrt(30))\n",
        "stat"
      ],
      "metadata": {
        "colab": {
          "base_uri": "https://localhost:8080/"
        },
        "id": "T4sF9NxFMCCV",
        "outputId": "7b7783ad-a76f-44c7-b1a1-bcc0f78fb5cb"
      },
      "execution_count": 15,
      "outputs": [
        {
          "output_type": "execute_result",
          "data": {
            "text/plain": [
              "-0.2225193533941137"
            ]
          },
          "metadata": {},
          "execution_count": 15
        }
      ]
    },
    {
      "cell_type": "code",
      "source": [
        "p_value = st.t.sf(abs(stat), 30-1) *2\n",
        "p_value  #if the mean is 17, it can happen 32% of the times."
      ],
      "metadata": {
        "colab": {
          "base_uri": "https://localhost:8080/"
        },
        "id": "VYYwB4btMEg4",
        "outputId": "39aeef0b-f9a4-42d5-e562-420ccda561c5"
      },
      "execution_count": 16,
      "outputs": [
        {
          "output_type": "execute_result",
          "data": {
            "text/plain": [
              "0.8254693921232181"
            ]
          },
          "metadata": {},
          "execution_count": 16
        }
      ]
    },
    {
      "cell_type": "code",
      "source": [
        "p_value < 0.05  #DON'T REJECT"
      ],
      "metadata": {
        "colab": {
          "base_uri": "https://localhost:8080/"
        },
        "id": "UxEJZbegMG5d",
        "outputId": "0c351884-6656-4cb9-c82b-3a3be034504f"
      },
      "execution_count": 17,
      "outputs": [
        {
          "output_type": "execute_result",
          "data": {
            "text/plain": [
              "False"
            ]
          },
          "metadata": {},
          "execution_count": 17
        }
      ]
    },
    {
      "cell_type": "markdown",
      "metadata": {
        "id": "f-v287sAKAmj"
      },
      "source": [
        "The workers from the department with the most hourly workers have complained that their hourly wage is less than $35/hour. Using a one sample t-test, test this one-sided hypothesis at the 95% confidence level."
      ]
    },
    {
      "cell_type": "code",
      "execution_count": null,
      "metadata": {
        "id": "OF33-VTAKAmj"
      },
      "outputs": [],
      "source": [
        "# Your code here:\n",
        "\n"
      ]
    },
    {
      "cell_type": "markdown",
      "metadata": {
        "id": "M_wjfjyNKAmk"
      },
      "source": [
        "# Challenge 3: To practice - Constructing Confidence Intervals\n",
        "\n",
        "While testing our hypothesis is a great way to gather empirical evidence for accepting or rejecting the hypothesis, another way to gather evidence is by creating a confidence interval. A confidence interval gives us information about the true mean of the population. So for a 95% confidence interval, we are 95% sure that the mean of the population is within the confidence interval.\n",
        ").\n",
        "\n",
        "To read more about confidence intervals, click [here](https://en.wikipedia.org/wiki/Confidence_interval).\n",
        "\n",
        "\n",
        "In the cell below, we will construct a 95% confidence interval for the mean hourly wage of all hourly workers.\n",
        "\n",
        "The confidence interval is computed in SciPy using the `t.interval` function. You can read more about this function [here](https://docs.scipy.org/doc/scipy-0.14.0/reference/generated/scipy.stats.t.html).\n",
        "\n",
        "To compute the confidence interval of the hourly wage, use the 0.95 for the confidence level, number of rows - 1 for degrees of freedom, the mean of the sample for the location parameter and the standard error for the scale. The standard error can be computed using [this](https://docs.scipy.org/doc/scipy/reference/generated/scipy.stats.sem.html) function in SciPy."
      ]
    },
    {
      "cell_type": "code",
      "execution_count": 18,
      "metadata": {
        "id": "B22sC90NKAmk"
      },
      "outputs": [],
      "source": [
        "# Your code here:\n",
        "\n",
        "\n",
        "\n",
        "import numpy as np\n",
        "from scipy.stats import t\n",
        "from scipy.stats import sem\n",
        "\n"
      ]
    },
    {
      "cell_type": "code",
      "source": [
        "hourly_rate = df['Hourly Rate'].dropna()\n",
        "\n",
        "confidence_interval = st.t.interval(0.95, len(hourly_rate)-1, loc=hourly_rate.mean(), scale=st.sem(hourly_rate))\n",
        "confidence_interval"
      ],
      "metadata": {
        "colab": {
          "base_uri": "https://localhost:8080/"
        },
        "id": "uf1PadFwMPvh",
        "outputId": "08b6ac70-52f5-4a81-b42f-bab972e90edc"
      },
      "execution_count": 19,
      "outputs": [
        {
          "output_type": "execute_result",
          "data": {
            "text/plain": [
              "(32.52345834488425, 33.05365708767623)"
            ]
          },
          "metadata": {},
          "execution_count": 19
        }
      ]
    },
    {
      "cell_type": "markdown",
      "metadata": {
        "id": "lpNrvTUOKAmk"
      },
      "source": [
        "Now construct the 95% confidence interval for all salaried employeed in the police in the cell below."
      ]
    },
    {
      "cell_type": "code",
      "execution_count": 20,
      "metadata": {
        "colab": {
          "base_uri": "https://localhost:8080/"
        },
        "id": "7OUUgDC8KAmk",
        "outputId": "10c97dda-e129-496e-f842-baec85506ee1"
      },
      "outputs": [
        {
          "output_type": "execute_result",
          "data": {
            "text/plain": [
              "(9.31381234362183, 9.45418765637817)"
            ]
          },
          "metadata": {},
          "execution_count": 20
        }
      ],
      "source": [
        "# Your code here:\n",
        "\n",
        "hourly_rate_police = df.loc[df['Department'] == 'POLICE', 'Hourly Rate'].dropna()\n",
        "\n",
        "confidence_interval = st.t.interval(0.95, len(hourly_rate_police) - 1, loc=hourly_rate_police.mean(), scale=st.sem(hourly_rate_police))\n",
        "confidence_interval"
      ]
    },
    {
      "cell_type": "markdown",
      "metadata": {
        "id": "FuvDwfN7KAml"
      },
      "source": [
        "# Bonus Challenge - Hypothesis Tests of Proportions\n",
        "\n",
        "Another type of one sample test is a hypothesis test of proportions. In this test, we examine whether the proportion of a group in our sample is significantly different than a fraction.\n",
        "\n",
        "You can read more about one sample proportion tests [here](http://sphweb.bumc.bu.edu/otlt/MPH-Modules/BS/SAS/SAS6-CategoricalData/SAS6-CategoricalData2.html).\n",
        "\n",
        "In the cell below, use the `proportions_ztest` function from `statsmodels` to perform a hypothesis test that will determine whether the number of hourly workers in the City of Chicago is significantly different from 25% at the 95% confidence level."
      ]
    },
    {
      "cell_type": "code",
      "execution_count": null,
      "metadata": {
        "id": "PsOoBZSjKAml"
      },
      "outputs": [],
      "source": [
        "# Your code here:\n",
        "\n"
      ]
    }
  ],
  "metadata": {
    "kernelspec": {
      "display_name": "Python 3",
      "language": "python",
      "name": "python3"
    },
    "language_info": {
      "codemirror_mode": {
        "name": "ipython",
        "version": 3
      },
      "file_extension": ".py",
      "mimetype": "text/x-python",
      "name": "python",
      "nbconvert_exporter": "python",
      "pygments_lexer": "ipython3",
      "version": "3.7.3"
    },
    "colab": {
      "provenance": []
    }
  },
  "nbformat": 4,
  "nbformat_minor": 0
}